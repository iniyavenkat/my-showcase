!pip install tensorflow
!pip install transformers
!pip install pandas

--import libraries
import pandas as pd
import tensorflow as tf
from transformers import BertTokenizer, TFBertForSequenceClassification

-- prepare training data 

data = {
    'DATA': [
        '/content/drive/MyDrive/Heart Attack Prediction/Training/MI Patients/MI(10).jpg',
        '/content/drive/MyDrive/Heart Attack Prediction/Training/MI Patients/MI(100).jpg',
        '/content/drive/MyDrive/Heart Attack Prediction/Training/MI Patients/MI(101).jpg',
        '/content/drive/MyDrive/Heart Attack Prediction/Training/MI Patients/MI(102).jpg',
        '/content/drive/MyDrive/Heart Attack Prediction/Training/MI Patients/MI(103).jpg',
        '/content/drive/MyDrive/Heart Attack Prediction/Training/MI Patients/MI(104).jpg',
        '/content/drive/MyDrive/Heart Attack Prediction/Training/MI Patients/MI(105).jpg',
        '/content/drive/MyDrive/Heart Attack Prediction/Training/MI Patients/MI(106).jpg',
        '/content/drive/MyDrive/Heart Attack Prediction/Training/MI Patients/MI(107).jpg',
        '/content/drive/MyDrive/Heart Attack Prediction/Training/MI Patients/MI(108).jpg',
        '/content/drive/MyDrive/Heart Attack Prediction/Training/MI Patients/MI(109).jpg',
        '/content/drive/MyDrive/Heart Attack Prediction/Training/MI Patients/MI(110).jpg',
        '/content/drive/MyDrive/Heart Attack Prediction/Training/MI Patients/MI(111).jpg',
        '/content/drive/MyDrive/Heart Attack Prediction/Training/MI Patients/MI(112).jpg',
        '/content/drive/MyDrive/Heart Attack Prediction/Training/MI Patients/MI(113).jpg',
        '/content/drive/MyDrive/Heart Attack Prediction/Training/MI Patients/MI(114).jpg',
        '/content/drive/MyDrive/Heart Attack Prediction/Training/MI Patients/MI(115).jpg',
        '/content/drive/MyDrive/Heart Attack Prediction/Training/MI Patients/MI(116).jpg',
        '/content/drive/MyDrive/Heart Attack Prediction/Training/MI Patients/MI(117).jpg',
        '/content/drive/MyDrive/Heart Attack Prediction/Training/MI Patients/MI(118).jpg',
        '/content/drive/MyDrive/Heart Attack Prediction/Training/MI Patients/MI(119).jpg',
        '/content/drive/MyDrive/Heart Attack Prediction/Training/MI Patients/MI(120).jpg',
        '/content/drive/MyDrive/Heart Attack Prediction/Training/MI Patients/MI(121).jpg',
        '/content/drive/MyDrive/Heart Attack Prediction/Training/MI Patients/MI(122).jpg',
        '/content/drive/MyDrive/Heart Attack Prediction/Training/MI Patients/MI(123).jpg',
        '/content/drive/MyDrive/Heart Attack Prediction/Training/MI Patients/MI(124).jpg',
        '/content/drive/MyDrive/Heart Attack Prediction/Training/MI Patients/MI(125).jpg',
        '/content/drive/MyDrive/Heart Attack Prediction/Training/Normal/Normal(10).jpg',
        '/content/drive/MyDrive/Heart Attack Prediction/Training/Normal/Normal(100).jpg',
        '/content/drive/MyDrive/Heart Attack Prediction/Training/Normal/Normal(101).jpg',
        '/content/drive/MyDrive/Heart Attack Prediction/Training/Normal/Normal(102).jpg',
        '/content/drive/MyDrive/Heart Attack Prediction/Training/Normal/Normal(103).jpg',
        '/content/drive/MyDrive/Heart Attack Prediction/Training/Normal/Normal(104).jpg',
        '/content/drive/MyDrive/Heart Attack Prediction/Training/Normal/Normal(105).jpg',
        '/content/drive/MyDrive/Heart Attack Prediction/Training/Normal/Normal(106).jpg',
        '/content/drive/MyDrive/Heart Attack Prediction/Training/Normal/Normal(107).jpg',
        '/content/drive/MyDrive/Heart Attack Prediction/Training/Normal/Normal(108).jpg',
        '/content/drive/MyDrive/Heart Attack Prediction/Training/Normal/Normal(109).jpg',
        '/content/drive/MyDrive/Heart Attack Prediction/Training/Normal/Normal(110).jpg',
        '/content/drive/MyDrive/Heart Attack Prediction/Training/Normal/Normal(111).jpg',
        '/content/drive/MyDrive/Heart Attack Prediction/Training/Normal/Normal(112).jpg',
        '/content/drive/MyDrive/Heart Attack Prediction/Training/Normal/Normal(113).jpg',
        '/content/drive/MyDrive/Heart Attack Prediction/Training/Normal/Normal(114).jpg',
        '/content/drive/MyDrive/Heart Attack Prediction/Training/Normal/Normal(116).jpg',
        '/content/drive/MyDrive/Heart Attack Prediction/Training/Normal/Normal(117).jpg',
        '/content/drive/MyDrive/Heart Attack Prediction/Training/Normal/Normal(118).jpg',
        '/content/drive/MyDrive/Heart Attack Prediction/Training/Normal/Normal(119).jpg',
        '/content/drive/MyDrive/Heart Attack Prediction/Training/Normal/Normal(120).jpg',
        '/content/drive/MyDrive/Heart Attack Prediction/Training/Normal/Normal(121).jpg',
        '/content/drive/MyDrive/Heart Attack Prediction/Training/Normal/Normal(122).jpg',
        '/content/drive/MyDrive/Heart Attack Prediction/Training/Normal/Normal(123).jpg',
        '/content/drive/MyDrive/Heart Attack Prediction/Training/Normal/Normal(124).jpg',
        '/content/drive/MyDrive/Heart Attack Prediction/Training/Normal/Normal(125).jpg'
    ],

    'RESULTS': [
        1, # Heart Attack
        1, # Heart Attack
        1, # Heart Attack
        1, # Heart Attack
        1, # Heart Attack
        1, # Heart Attack
        1, # Heart Attack
        1, # Heart Attack
        1, # Heart Attack
        1, # Heart Attack
        1, # Heart Attack
        1, # Heart Attack
        1, # Heart Attack
        1, # Heart Attack
        1, # Heart Attack
        1, # Heart Attack
        1, # Heart Attack
        1, # Heart Attack
        1, # Heart Attack
        1, # Heart Attack
        1, # Heart Attack
        1, # Heart Attack
        1, # Heart Attack
        1, # Heart Attack
        1, # Heart Attack
        1, # Heart Attack
        1, # Heart Attack
        0, # NORMAL
        0, # NORMAL
        0, # NORMAL
        0, # NORMAL
        0, # NORMAL
        0, # NORMAL
        0, # NORMAL
        0, # NORMAL
        0, # NORMAL
        0, # NORMAL
        0, # NORMAL
        0, # NORMAL
        0, # NORMAL
        0, # NORMAL
        0, # NORMAL
        0, # NORMAL
        0, # NORMAL
        0, # NORMAL
        0, # NORMAL
        0, # NORMAL
        0, # NORMAL
        0, # NORMAL
        0, # NORMAL
        0, # NORMAL
        0, # NORMAL
        0, # NORMAL
    ]
}

df = pd.DataFrame(data)


from google.colab import drive
drive.mount('/content/drive')


--LOAD BERT TOKENIZER AND MODEL

tokenizer = BertTokenizer.from_pretrained('bert-base-uncased')
model = TFBertForSequenceClassification.from_pretrained('bert-base-uncased')


encoded_data = tokenizer.batch_encode_plus(
    df['DATA'].tolist(),
    add_special_tokens=True,
    padding=True,
    truncation=True,
    return_tensors='tf'
)

input_ids = encoded_data['input_ids']
attention_masks = encoded_data['attention_mask']


inputs = {
    'input_ids': input_ids,
    'attention_mask': attention_masks
}

--- compile ML model with training data
model.compile(optimizer=tf.keras.optimizers.Adam(),
              loss=tf.keras.losses.SparseCategoricalCrossentropy(from_logits=True),
              metrics=['accuracy'])


model.fit(inputs, df['RESULTS'].values, epochs=10, batch_size=16)


-- test prediction with real data 
example = ['/content/drive/MyDrive/Heart Attack Prediction/Training/Normal/Normal(101).jpg']
encoded_example = tokenizer.batch_encode_plus(
    example,
    add_special_tokens=True,
    padding=True,
    truncation=True,
    return_tensors='tf'
)

example_input_ids = encoded_example['input_ids']
example_attention_mask = encoded_example['attention_mask']

example_inputs = {
    'input_ids': example_input_ids,
    'attention_mask': example_attention_mask
}

predictions = model.predict(example_inputs)
predicted_class = tf.argmax(predictions.logits, axis=1).numpy()[0]
print("Prediction:", predicted_class)


